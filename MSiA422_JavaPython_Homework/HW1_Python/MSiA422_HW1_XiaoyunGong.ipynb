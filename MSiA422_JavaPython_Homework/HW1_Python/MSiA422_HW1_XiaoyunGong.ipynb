{
  "nbformat": 4,
  "nbformat_minor": 0,
  "metadata": {
    "colab": {
      "name": "MSiA422_HW1_XiaoyunGong.ipynb",
      "provenance": [],
      "collapsed_sections": []
    },
    "kernelspec": {
      "name": "python3",
      "display_name": "Python 3"
    },
    "language_info": {
      "name": "python"
    }
  },
  "cells": [
    {
      "cell_type": "markdown",
      "metadata": {
        "id": "qK0LCBQnos_B"
      },
      "source": [
        "# **MSiA422 Homework1 Xiaoyun Gong**"
      ]
    },
    {
      "cell_type": "markdown",
      "metadata": {
        "id": "a3qGCLtrIcEu"
      },
      "source": [
        "# **Exercise 1–Procedural vs Functional**"
      ]
    },
    {
      "cell_type": "markdown",
      "metadata": {
        "id": "sXIhl_jMpM1m"
      },
      "source": [
        "1. Create a function the will randomly generate a list of N numbers and words. Numbers and words count are random and the order is random too."
      ]
    },
    {
      "cell_type": "code",
      "metadata": {
        "id": "4RVbFIBOoNcv"
      },
      "source": [
        "import random\n",
        "import string \n",
        "\n",
        "def generator(N):\n",
        "  l = []\n",
        "  for i in range(N):\n",
        "    ## use a random integer to determine if 'i' is a number or text\n",
        "    istext = random.randint(0,1)\n",
        "    if istext == 0:\n",
        "      l.append(random.randint(-1000,1000))\n",
        "    else:\n",
        "      ## first we need to randomly determine how many words are there. I denoted it as 'n'.\n",
        "      n = random.randint(1,4)\n",
        "      ## create a list 'ls' to store the 'n' words that will be generated.\n",
        "      ls = []\n",
        "      for i in range(n):\n",
        "        ## first put the 'n' words into 'ls'\n",
        "        ls.append(''.join(random.sample(string.ascii_lowercase,random.randint(1,20))))\n",
        "      ## then make the 'n' words one string\n",
        "      l.append(' '.join(ls))\n",
        "  return l;"
      ],
      "execution_count": null,
      "outputs": []
    },
    {
      "cell_type": "code",
      "metadata": {
        "id": "Mf-SbYrWoQYy"
      },
      "source": [
        "test_case = generator(10)"
      ],
      "execution_count": null,
      "outputs": []
    },
    {
      "cell_type": "markdown",
      "metadata": {
        "id": "mtVWexWbrurz"
      },
      "source": [
        "2. Create two functions to calculate the desired output as follows: \n",
        "\n",
        "    a. Procedural code by using loops\n",
        "\n",
        "    b. Functional code by using list comprehension."
      ]
    },
    {
      "cell_type": "code",
      "metadata": {
        "id": "sZMl1EJUqzs1"
      },
      "source": [
        "### part a\n",
        "\n",
        "def count_type_loop(a):\n",
        "  text = 0\n",
        "  num = 0\n",
        "  for i in a:\n",
        "    if type(i) == str:\n",
        "      text += len(i.split())\n",
        "    elif type(i) == int:\n",
        "      num += 1\n",
        "    else:\n",
        "      print(i, 'is not a number or text.')\n",
        "  return [text, num]"
      ],
      "execution_count": null,
      "outputs": []
    },
    {
      "cell_type": "code",
      "metadata": {
        "id": "8ZHtzXWZ8ZjB",
        "colab": {
          "base_uri": "https://localhost:8080/"
        },
        "outputId": "7615d6a4-d000-432d-8a3f-5a988ace5db6"
      },
      "source": [
        "result = count_type_loop(test_case)\n",
        "print(\"Count of Numbers:\", result[1])\n",
        "print(\"Count of text:\", result[0])"
      ],
      "execution_count": null,
      "outputs": [
        {
          "output_type": "stream",
          "name": "stdout",
          "text": [
            "Count of Numbers: 4\n",
            "Count of text: 17\n"
          ]
        }
      ]
    },
    {
      "cell_type": "code",
      "metadata": {
        "id": "YzzlRgWxuHm6"
      },
      "source": [
        "### part b\n",
        "def count_type_lc(a):\n",
        "  text = sum([len(x.split()) if type(x) == str else 0 for x in a])\n",
        "  num = sum([type(x) == int for x in a])\n",
        "  return [text, num]"
      ],
      "execution_count": null,
      "outputs": []
    },
    {
      "cell_type": "code",
      "metadata": {
        "colab": {
          "base_uri": "https://localhost:8080/"
        },
        "id": "zlh1Zc-38jvy",
        "outputId": "922bc12e-f051-483e-f697-d74b72e3d52e"
      },
      "source": [
        "result = count_type_lc(test_case)\n",
        "print(\"Count of Numbers:\", result[1])\n",
        "print(\"Count of text:\", result[0])"
      ],
      "execution_count": null,
      "outputs": [
        {
          "output_type": "stream",
          "name": "stdout",
          "text": [
            "Count of Numbers: 4\n",
            "Count of text: 17\n"
          ]
        }
      ]
    },
    {
      "cell_type": "markdown",
      "metadata": {
        "id": "4mDjjLQq1o7_"
      },
      "source": [
        "3. Use TimeIt standard library and matplotlib to present the performance difference among the 2 solutionsfor different list sizes(N=100, 1000, 10000, 100000)."
      ]
    },
    {
      "cell_type": "code",
      "metadata": {
        "id": "DQReM5lx1U9M"
      },
      "source": [
        "import timeit\n",
        "import math\n",
        "N = [100, 1000, 10000, 100000]\n",
        "\n",
        "### create two separate lists to save count_type_loop and save count_type_lc run time.\n",
        "loop = []\n",
        "lc = []\n",
        "for n in N:\n",
        "  l = generator(n)\n",
        "  loop.append(timeit.timeit(lambda: count_type_loop(l), number = 100))\n",
        "  lc.append(timeit.timeit(lambda: count_type_lc(l), number = 100))"
      ],
      "execution_count": null,
      "outputs": []
    },
    {
      "cell_type": "code",
      "metadata": {
        "colab": {
          "base_uri": "https://localhost:8080/",
          "height": 299
        },
        "id": "FQ-bdfHo9GJR",
        "outputId": "77c7304c-c0c8-48d6-e097-a795f74eebcc"
      },
      "source": [
        "import matplotlib.pyplot as plt\n",
        "\n",
        "x = N\n",
        "k1 = loop\n",
        "k2 = lc\n",
        "plt.plot(x, k1, 's-', color = 'r', label = \"Loop Method\")\n",
        "plt.plot(x, k2, 'o-', color = 'g', label = \"List Comprehension Method\")\n",
        "plt.xscale(\"log\")\n",
        "plt.xlabel(\"N\")\n",
        "plt.ylabel(\"TimeIt result\")\n",
        "plt.legend(loc = \"best\")\n",
        "plt.title(\"Comparison bewteen Loop and List Comprehension Method over different N\")\n",
        "plt.show()"
      ],
      "execution_count": null,
      "outputs": [
        {
          "output_type": "display_data",
          "data": {
            "image/png": "[encoded data removed]",
            "text/plain": [
              "<Figure size 432x288 with 1 Axes>"
            ]
          },
          "metadata": {
            "needs_background": "light"
          }
        }
      ]
    },
    {
      "cell_type": "markdown",
      "metadata": {
        "id": "edTNQ5rt_V-2"
      },
      "source": [
        "# **Exercise 2–Simple Student Grading System-memory based**"
      ]
    },
    {
      "cell_type": "code",
      "metadata": {
        "id": "t1zU-hGn5W3s"
      },
      "source": [
        "### First, import all the packages that are needed. \n",
        "import pandas as pd\n",
        "from google.colab import files\n",
        "import io\n",
        "import numpy as np \n",
        "from operator import itemgetter\n",
        "from scipy import stats\n",
        "import statistics\n",
        "import matplotlib.pyplot as plt\n",
        "import numpy as np"
      ],
      "execution_count": null,
      "outputs": []
    },
    {
      "cell_type": "code",
      "metadata": {
        "colab": {
          "resources": {
            "http://localhost:8080/nbextensions/google.colab/files.js": {
              "data": "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",
              "ok": true,
              "headers": [
                [
                  "content-type",
                  "application/javascript"
                ]
              ],
              "status": 200,
              "status_text": ""
            }
          },
          "base_uri": "https://localhost:8080/",
          "height": 72
        },
        "id": "7s_1WEt6aQwb",
        "outputId": "68638660-b4ee-4db1-b1e2-9abfe77cf80f"
      },
      "source": [
        "### Upload the file. \n",
        "### This trunk is used to test over the provided exams.csv data set. \n",
        "uploaded = files.upload()\n",
        "exams_df = pd.read_csv(io.BytesIO(uploaded['exams.csv']))"
      ],
      "execution_count": null,
      "outputs": [
        {
          "output_type": "display_data",
          "data": {
            "text/html": [
              "\n",
              "     <input type=\"file\" id=\"files-f875f8d7-1388-4478-8cf5-47a91c99c420\" name=\"files[]\" multiple disabled\n",
              "        style=\"border:none\" />\n",
              "     <output id=\"result-f875f8d7-1388-4478-8cf5-47a91c99c420\">\n",
              "      Upload widget is only available when the cell has been executed in the\n",
              "      current browser session. Please rerun this cell to enable.\n",
              "      </output>\n",
              "      <script src=\"/nbextensions/google.colab/files.js\"></script> "
            ],
            "text/plain": [
              "<IPython.core.display.HTML object>"
            ]
          },
          "metadata": {}
        },
        {
          "output_type": "stream",
          "name": "stdout",
          "text": [
            "Saving exams.csv to exams.csv\n"
          ]
        }
      ]
    },
    {
      "cell_type": "code",
      "metadata": {
        "colab": {
          "base_uri": "https://localhost:8080/"
        },
        "id": "q_SmG0EyDPL4",
        "outputId": "13117121-de7b-45e2-b9b9-ae5b772078bb"
      },
      "source": [
        "print(exams_df)"
      ],
      "execution_count": null,
      "outputs": [
        {
          "output_type": "stream",
          "name": "stdout",
          "text": [
            "       id       Name  Quizzes  Projects  Exams\n",
            "0     ID1      James       43        51     55\n",
            "1     ID2  Josephine       76        84     87\n",
            "2     ID3        Art       89        94     92\n",
            "3     ID4      Lenna       70        67     64\n",
            "4     ID5    Donette       63        59     58\n",
            "..    ...        ...      ...       ...    ...\n",
            "95   ID96      Carma       64        59     62\n",
            "96   ID97    Malinda       66        62     55\n",
            "97   ID98    Natalie       95        85     91\n",
            "98   ID99      Lisha       69        67     55\n",
            "99  ID100     Arlene       58        71     68\n",
            "\n",
            "[100 rows x 5 columns]\n"
          ]
        }
      ]
    },
    {
      "cell_type": "code",
      "metadata": {
        "id": "QVapXu2YIKcU"
      },
      "source": [
        "def get_finalscore(exams_df):\n",
        "  '''\n",
        "    This function calcultaes the finalscore for each student based on quizzes, projects, and exams score. \n",
        "    I round it to the nearest integer because otherwise it will cause significant problem when calculating the mode later. \n",
        "  '''\n",
        "  exams_df['Finalscore'] = round(0.3 * exams_df.Quizzes + 0.3 * exams_df.Projects + 0.4 * exams_df.Exams, 0).astype(int)\n",
        "  return exams_df"
      ],
      "execution_count": null,
      "outputs": []
    },
    {
      "cell_type": "code",
      "metadata": {
        "colab": {
          "base_uri": "https://localhost:8080/",
          "height": 419
        },
        "id": "9KmvRVhUWDa-",
        "outputId": "1ee0bdb2-d36a-4763-cea9-cf5766e76f36"
      },
      "source": [
        "get_finalscore(exams_df)\n",
        "exams_df"
      ],
      "execution_count": null,
      "outputs": [
        {
          "output_type": "execute_result",
          "data": {
            "text/html": [
              "<div>\n",
              "<style scoped>\n",
              "    .dataframe tbody tr th:only-of-type {\n",
              "        vertical-align: middle;\n",
              "    }\n",
              "\n",
              "    .dataframe tbody tr th {\n",
              "        vertical-align: top;\n",
              "    }\n",
              "\n",
              "    .dataframe thead th {\n",
              "        text-align: right;\n",
              "    }\n",
              "</style>\n",
              "<table border=\"1\" class=\"dataframe\">\n",
              "  <thead>\n",
              "    <tr style=\"text-align: right;\">\n",
              "      <th></th>\n",
              "      <th>id</th>\n",
              "      <th>Name</th>\n",
              "      <th>Quizzes</th>\n",
              "      <th>Projects</th>\n",
              "      <th>Exams</th>\n",
              "      <th>Finalscore</th>\n",
              "    </tr>\n",
              "  </thead>\n",
              "  <tbody>\n",
              "    <tr>\n",
              "      <th>0</th>\n",
              "      <td>ID1</td>\n",
              "      <td>James</td>\n",
              "      <td>43</td>\n",
              "      <td>51</td>\n",
              "      <td>55</td>\n",
              "      <td>50</td>\n",
              "    </tr>\n",
              "    <tr>\n",
              "      <th>1</th>\n",
              "      <td>ID2</td>\n",
              "      <td>Josephine</td>\n",
              "      <td>76</td>\n",
              "      <td>84</td>\n",
              "      <td>87</td>\n",
              "      <td>83</td>\n",
              "    </tr>\n",
              "    <tr>\n",
              "      <th>2</th>\n",
              "      <td>ID3</td>\n",
              "      <td>Art</td>\n",
              "      <td>89</td>\n",
              "      <td>94</td>\n",
              "      <td>92</td>\n",
              "      <td>92</td>\n",
              "    </tr>\n",
              "    <tr>\n",
              "      <th>3</th>\n",
              "      <td>ID4</td>\n",
              "      <td>Lenna</td>\n",
              "      <td>70</td>\n",
              "      <td>67</td>\n",
              "      <td>64</td>\n",
              "      <td>67</td>\n",
              "    </tr>\n",
              "    <tr>\n",
              "      <th>4</th>\n",
              "      <td>ID5</td>\n",
              "      <td>Donette</td>\n",
              "      <td>63</td>\n",
              "      <td>59</td>\n",
              "      <td>58</td>\n",
              "      <td>60</td>\n",
              "    </tr>\n",
              "    <tr>\n",
              "      <th>...</th>\n",
              "      <td>...</td>\n",
              "      <td>...</td>\n",
              "      <td>...</td>\n",
              "      <td>...</td>\n",
              "      <td>...</td>\n",
              "      <td>...</td>\n",
              "    </tr>\n",
              "    <tr>\n",
              "      <th>95</th>\n",
              "      <td>ID96</td>\n",
              "      <td>Carma</td>\n",
              "      <td>64</td>\n",
              "      <td>59</td>\n",
              "      <td>62</td>\n",
              "      <td>62</td>\n",
              "    </tr>\n",
              "    <tr>\n",
              "      <th>96</th>\n",
              "      <td>ID97</td>\n",
              "      <td>Malinda</td>\n",
              "      <td>66</td>\n",
              "      <td>62</td>\n",
              "      <td>55</td>\n",
              "      <td>60</td>\n",
              "    </tr>\n",
              "    <tr>\n",
              "      <th>97</th>\n",
              "      <td>ID98</td>\n",
              "      <td>Natalie</td>\n",
              "      <td>95</td>\n",
              "      <td>85</td>\n",
              "      <td>91</td>\n",
              "      <td>90</td>\n",
              "    </tr>\n",
              "    <tr>\n",
              "      <th>98</th>\n",
              "      <td>ID99</td>\n",
              "      <td>Lisha</td>\n",
              "      <td>69</td>\n",
              "      <td>67</td>\n",
              "      <td>55</td>\n",
              "      <td>63</td>\n",
              "    </tr>\n",
              "    <tr>\n",
              "      <th>99</th>\n",
              "      <td>ID100</td>\n",
              "      <td>Arlene</td>\n",
              "      <td>58</td>\n",
              "      <td>71</td>\n",
              "      <td>68</td>\n",
              "      <td>66</td>\n",
              "    </tr>\n",
              "  </tbody>\n",
              "</table>\n",
              "<p>100 rows × 6 columns</p>\n",
              "</div>"
            ],
            "text/plain": [
              "       id       Name  Quizzes  Projects  Exams  Finalscore\n",
              "0     ID1      James       43        51     55          50\n",
              "1     ID2  Josephine       76        84     87          83\n",
              "2     ID3        Art       89        94     92          92\n",
              "3     ID4      Lenna       70        67     64          67\n",
              "4     ID5    Donette       63        59     58          60\n",
              "..    ...        ...      ...       ...    ...         ...\n",
              "95   ID96      Carma       64        59     62          62\n",
              "96   ID97    Malinda       66        62     55          60\n",
              "97   ID98    Natalie       95        85     91          90\n",
              "98   ID99      Lisha       69        67     55          63\n",
              "99  ID100     Arlene       58        71     68          66\n",
              "\n",
              "[100 rows x 6 columns]"
            ]
          },
          "metadata": {},
          "execution_count": 9
        }
      ]
    },
    {
      "cell_type": "code",
      "metadata": {
        "id": "ZzhilRkVV6w3"
      },
      "source": [
        "def get_finalgrade(exams_df):\n",
        "  '''\n",
        "  Get final grade based the the grading criteria provided. \n",
        "  '''\n",
        "  conditions = [\n",
        "    (exams_df['Finalscore'] < 10),\n",
        "    (exams_df['Finalscore'] >= 10) & (exams_df['Finalscore'] < 20),\n",
        "    (exams_df['Finalscore'] >= 20) & (exams_df['Finalscore'] < 80),\n",
        "    (exams_df['Finalscore'] >= 80) & (exams_df['Finalscore'] < 90),\n",
        "    (exams_df['Finalscore'] >= 90) & (exams_df['Finalscore'] <= 100)\n",
        "    ]\n",
        "\n",
        "  values = ['F', 'D', 'C', 'B', 'A']\n",
        "  exams_df['Finalgrade'] = np.select(conditions, values)"
      ],
      "execution_count": null,
      "outputs": []
    },
    {
      "cell_type": "code",
      "metadata": {
        "colab": {
          "base_uri": "https://localhost:8080/",
          "height": 419
        },
        "id": "14nc9rs-WRoD",
        "outputId": "d3ffbd4f-b13d-45d6-ab02-fd8ebaaf7ac4"
      },
      "source": [
        "get_finalgrade(exams_df)\n",
        "exams_df"
      ],
      "execution_count": null,
      "outputs": [
        {
          "output_type": "execute_result",
          "data": {
            "text/html": [
              "<div>\n",
              "<style scoped>\n",
              "    .dataframe tbody tr th:only-of-type {\n",
              "        vertical-align: middle;\n",
              "    }\n",
              "\n",
              "    .dataframe tbody tr th {\n",
              "        vertical-align: top;\n",
              "    }\n",
              "\n",
              "    .dataframe thead th {\n",
              "        text-align: right;\n",
              "    }\n",
              "</style>\n",
              "<table border=\"1\" class=\"dataframe\">\n",
              "  <thead>\n",
              "    <tr style=\"text-align: right;\">\n",
              "      <th></th>\n",
              "      <th>id</th>\n",
              "      <th>Name</th>\n",
              "      <th>Quizzes</th>\n",
              "      <th>Projects</th>\n",
              "      <th>Exams</th>\n",
              "      <th>Finalscore</th>\n",
              "      <th>Finalgrade</th>\n",
              "    </tr>\n",
              "  </thead>\n",
              "  <tbody>\n",
              "    <tr>\n",
              "      <th>0</th>\n",
              "      <td>ID1</td>\n",
              "      <td>James</td>\n",
              "      <td>43</td>\n",
              "      <td>51</td>\n",
              "      <td>55</td>\n",
              "      <td>50</td>\n",
              "      <td>C</td>\n",
              "    </tr>\n",
              "    <tr>\n",
              "      <th>1</th>\n",
              "      <td>ID2</td>\n",
              "      <td>Josephine</td>\n",
              "      <td>76</td>\n",
              "      <td>84</td>\n",
              "      <td>87</td>\n",
              "      <td>83</td>\n",
              "      <td>B</td>\n",
              "    </tr>\n",
              "    <tr>\n",
              "      <th>2</th>\n",
              "      <td>ID3</td>\n",
              "      <td>Art</td>\n",
              "      <td>89</td>\n",
              "      <td>94</td>\n",
              "      <td>92</td>\n",
              "      <td>92</td>\n",
              "      <td>A</td>\n",
              "    </tr>\n",
              "    <tr>\n",
              "      <th>3</th>\n",
              "      <td>ID4</td>\n",
              "      <td>Lenna</td>\n",
              "      <td>70</td>\n",
              "      <td>67</td>\n",
              "      <td>64</td>\n",
              "      <td>67</td>\n",
              "      <td>C</td>\n",
              "    </tr>\n",
              "    <tr>\n",
              "      <th>4</th>\n",
              "      <td>ID5</td>\n",
              "      <td>Donette</td>\n",
              "      <td>63</td>\n",
              "      <td>59</td>\n",
              "      <td>58</td>\n",
              "      <td>60</td>\n",
              "      <td>C</td>\n",
              "    </tr>\n",
              "    <tr>\n",
              "      <th>...</th>\n",
              "      <td>...</td>\n",
              "      <td>...</td>\n",
              "      <td>...</td>\n",
              "      <td>...</td>\n",
              "      <td>...</td>\n",
              "      <td>...</td>\n",
              "      <td>...</td>\n",
              "    </tr>\n",
              "    <tr>\n",
              "      <th>95</th>\n",
              "      <td>ID96</td>\n",
              "      <td>Carma</td>\n",
              "      <td>64</td>\n",
              "      <td>59</td>\n",
              "      <td>62</td>\n",
              "      <td>62</td>\n",
              "      <td>C</td>\n",
              "    </tr>\n",
              "    <tr>\n",
              "      <th>96</th>\n",
              "      <td>ID97</td>\n",
              "      <td>Malinda</td>\n",
              "      <td>66</td>\n",
              "      <td>62</td>\n",
              "      <td>55</td>\n",
              "      <td>60</td>\n",
              "      <td>C</td>\n",
              "    </tr>\n",
              "    <tr>\n",
              "      <th>97</th>\n",
              "      <td>ID98</td>\n",
              "      <td>Natalie</td>\n",
              "      <td>95</td>\n",
              "      <td>85</td>\n",
              "      <td>91</td>\n",
              "      <td>90</td>\n",
              "      <td>A</td>\n",
              "    </tr>\n",
              "    <tr>\n",
              "      <th>98</th>\n",
              "      <td>ID99</td>\n",
              "      <td>Lisha</td>\n",
              "      <td>69</td>\n",
              "      <td>67</td>\n",
              "      <td>55</td>\n",
              "      <td>63</td>\n",
              "      <td>C</td>\n",
              "    </tr>\n",
              "    <tr>\n",
              "      <th>99</th>\n",
              "      <td>ID100</td>\n",
              "      <td>Arlene</td>\n",
              "      <td>58</td>\n",
              "      <td>71</td>\n",
              "      <td>68</td>\n",
              "      <td>66</td>\n",
              "      <td>C</td>\n",
              "    </tr>\n",
              "  </tbody>\n",
              "</table>\n",
              "<p>100 rows × 7 columns</p>\n",
              "</div>"
            ],
            "text/plain": [
              "       id       Name  Quizzes  Projects  Exams  Finalscore Finalgrade\n",
              "0     ID1      James       43        51     55          50          C\n",
              "1     ID2  Josephine       76        84     87          83          B\n",
              "2     ID3        Art       89        94     92          92          A\n",
              "3     ID4      Lenna       70        67     64          67          C\n",
              "4     ID5    Donette       63        59     58          60          C\n",
              "..    ...        ...      ...       ...    ...         ...        ...\n",
              "95   ID96      Carma       64        59     62          62          C\n",
              "96   ID97    Malinda       66        62     55          60          C\n",
              "97   ID98    Natalie       95        85     91          90          A\n",
              "98   ID99      Lisha       69        67     55          63          C\n",
              "99  ID100     Arlene       58        71     68          66          C\n",
              "\n",
              "[100 rows x 7 columns]"
            ]
          },
          "metadata": {},
          "execution_count": 11
        }
      ]
    },
    {
      "cell_type": "code",
      "metadata": {
        "id": "Wu16DbXJV8Zs"
      },
      "source": [
        "def cast_to_dict(exams_df):\n",
        "  '''\n",
        "  Cast the dataframe to a dictionary as required. The dictionary will be used in a later function get_info(exams_dict)\n",
        "  '''\n",
        "\n",
        "  exams_dict = exams_df.set_index('id').T.to_dict('list')\n",
        "  return exams_dict"
      ],
      "execution_count": null,
      "outputs": []
    },
    {
      "cell_type": "code",
      "metadata": {
        "colab": {
          "base_uri": "https://localhost:8080/"
        },
        "id": "y_moaim0WV9F",
        "outputId": "ddc78274-fd65-43b5-e31c-7e36bdc4be24"
      },
      "source": [
        "exams_dict = cast_to_dict(exams_df)\n",
        "exams_dict"
      ],
      "execution_count": null,
      "outputs": [
        {
          "output_type": "execute_result",
          "data": {
            "text/plain": [
              "{'ID1': ['James', 43, 51, 55, 50, 'C'],\n",
              " 'ID10': ['Kris', 60, 66, 65, 64, 'C'],\n",
              " 'ID100': ['Arlene', 58, 71, 68, 66, 'C'],\n",
              " 'ID11': ['Minna', 41, 49, 43, 44, 'C'],\n",
              " 'ID12': ['Abel', 53, 54, 50, 52, 'C'],\n",
              " 'ID13': ['Kiley', 58, 52, 57, 56, 'C'],\n",
              " 'ID14': ['Graciela', 69, 79, 74, 74, 'C'],\n",
              " 'ID15': ['Cammy', 55, 67, 58, 60, 'C'],\n",
              " 'ID16': ['Mattie', 73, 69, 72, 71, 'C'],\n",
              " 'ID17': ['Meaghan', 69, 81, 76, 75, 'C'],\n",
              " 'ID18': ['Gladys', 69, 70, 73, 71, 'C'],\n",
              " 'ID19': ['Yuki', 82, 81, 79, 80, 'B'],\n",
              " 'ID2': ['Josephine', 76, 84, 87, 83, 'B'],\n",
              " 'ID20': ['Fletcher', 66, 79, 76, 74, 'C'],\n",
              " 'ID21': ['Bette', 58, 62, 63, 61, 'C'],\n",
              " 'ID22': ['Veronika', 90, 83, 77, 83, 'B'],\n",
              " 'ID23': ['Willard', 75, 67, 65, 69, 'C'],\n",
              " 'ID24': ['Maryann', 66, 52, 57, 58, 'C'],\n",
              " 'ID25': ['Alisha', 74, 69, 64, 68, 'C'],\n",
              " 'ID26': ['Allene', 78, 84, 81, 81, 'B'],\n",
              " 'ID27': ['Chanel', 45, 53, 49, 49, 'C'],\n",
              " 'ID28': ['Ezekiel', 53, 69, 62, 61, 'C'],\n",
              " 'ID29': ['Willow', 91, 94, 93, 93, 'A'],\n",
              " 'ID3': ['Art', 89, 94, 92, 92, 'A'],\n",
              " 'ID30': ['Bernardo', 48, 46, 42, 45, 'C'],\n",
              " 'ID31': ['Ammie', 65, 70, 65, 66, 'C'],\n",
              " 'ID32': ['Francine', 76, 93, 88, 86, 'B'],\n",
              " 'ID33': ['Ernie', 66, 70, 71, 69, 'C'],\n",
              " 'ID34': ['Albina', 21, 41, 33, 32, 'C'],\n",
              " 'ID35': ['Alishia', 65, 66, 68, 66, 'C'],\n",
              " 'ID36': ['Solange', 66, 68, 67, 67, 'C'],\n",
              " 'ID37': ['Jose', 62, 66, 68, 66, 'C'],\n",
              " 'ID38': ['Rozella', 59, 72, 74, 69, 'C'],\n",
              " 'ID39': ['Valentine', 83, 85, 78, 82, 'B'],\n",
              " 'ID4': ['Lenna', 70, 67, 64, 67, 'C'],\n",
              " 'ID40': ['Kati', 76, 82, 82, 80, 'B'],\n",
              " 'ID41': ['Youlanda', 87, 85, 80, 84, 'B'],\n",
              " 'ID42': ['Dyan', 99, 100, 100, 100, 'A'],\n",
              " 'ID43': ['Roxane', 69, 54, 58, 60, 'C'],\n",
              " 'ID44': ['Lavera', 54, 55, 54, 54, 'C'],\n",
              " 'ID45': ['Erick', 44, 68, 63, 59, 'C'],\n",
              " 'ID46': ['Fatima', 93, 100, 100, 98, 'A'],\n",
              " 'ID47': ['Jina', 72, 87, 95, 86, 'B'],\n",
              " 'ID48': ['Kanisha', 61, 61, 65, 63, 'C'],\n",
              " 'ID49': ['Emerson', 50, 71, 68, 64, 'C'],\n",
              " 'ID5': ['Donette', 63, 59, 58, 60, 'C'],\n",
              " 'ID50': ['Blair', 97, 89, 89, 91, 'A'],\n",
              " 'ID51': ['Brock', 70, 82, 74, 75, 'C'],\n",
              " 'ID52': ['Lorrie', 69, 61, 67, 66, 'C'],\n",
              " 'ID53': ['Sabra', 40, 47, 55, 48, 'C'],\n",
              " 'ID54': ['Marjory', 69, 77, 77, 75, 'C'],\n",
              " 'ID55': ['Karl', 82, 87, 82, 84, 'B'],\n",
              " 'ID56': ['Tonette', 46, 46, 44, 45, 'C'],\n",
              " 'ID57': ['Amber', 82, 82, 74, 79, 'C'],\n",
              " 'ID58': ['Shenika', 57, 77, 74, 70, 'C'],\n",
              " 'ID59': ['Delmy', 85, 85, 86, 85, 'B'],\n",
              " 'ID6': ['Simona', 65, 69, 68, 67, 'C'],\n",
              " 'ID60': ['Deeanna', 73, 85, 86, 82, 'B'],\n",
              " 'ID61': ['Blondell', 37, 28, 32, 32, 'C'],\n",
              " 'ID62': ['Jamal', 67, 75, 76, 73, 'C'],\n",
              " 'ID63': ['Cecily', 34, 52, 56, 48, 'C'],\n",
              " 'ID64': ['Carmelina', 57, 58, 61, 59, 'C'],\n",
              " 'ID65': ['Maurine', 68, 75, 79, 74, 'C'],\n",
              " 'ID66': ['Tawna', 54, 52, 49, 51, 'C'],\n",
              " 'ID67': ['Penney', 63, 63, 67, 65, 'C'],\n",
              " 'ID68': ['Elly', 59, 51, 47, 52, 'C'],\n",
              " 'ID69': ['Ilene', 67, 67, 62, 65, 'C'],\n",
              " 'ID7': ['Mitsue', 41, 43, 34, 39, 'C'],\n",
              " 'ID70': ['Vallie', 82, 92, 89, 88, 'B'],\n",
              " 'ID71': ['Kallie', 72, 69, 66, 69, 'C'],\n",
              " 'ID72': ['Johnetta', 89, 98, 94, 94, 'A'],\n",
              " 'ID73': ['Bobbye', 61, 60, 54, 58, 'C'],\n",
              " 'ID74': ['Micaela', 72, 74, 71, 72, 'C'],\n",
              " 'ID75': ['Tamar', 54, 61, 66, 61, 'C'],\n",
              " 'ID76': ['Moon', 69, 77, 76, 74, 'C'],\n",
              " 'ID77': ['Laurel', 93, 91, 89, 91, 'A'],\n",
              " 'ID78': ['Delisa', 79, 82, 72, 77, 'C'],\n",
              " 'ID79': ['Viva', 90, 91, 94, 92, 'A'],\n",
              " 'ID8': ['Leota', 63, 72, 70, 68, 'C'],\n",
              " 'ID80': ['Elza', 66, 76, 71, 71, 'C'],\n",
              " 'ID81': ['Devorah', 90, 82, 78, 83, 'B'],\n",
              " 'ID82': ['Timothy', 73, 79, 81, 78, 'C'],\n",
              " 'ID83': ['Arlette', 60, 73, 70, 68, 'C'],\n",
              " 'ID84': ['Dominque', 61, 48, 52, 54, 'C'],\n",
              " 'ID85': ['Lettie', 65, 71, 77, 72, 'C'],\n",
              " 'ID86': ['Myra', 39, 52, 51, 48, 'C'],\n",
              " 'ID87': ['Stephaine', 61, 74, 69, 68, 'C'],\n",
              " 'ID88': ['Lai', 58, 79, 70, 69, 'C'],\n",
              " 'ID89': ['Stephen', 81, 67, 73, 74, 'C'],\n",
              " 'ID9': ['Sage', 56, 71, 65, 64, 'C'],\n",
              " 'ID90': ['Tyra', 82, 76, 68, 75, 'C'],\n",
              " 'ID91': ['Tammara', 66, 85, 81, 78, 'C'],\n",
              " 'ID92': ['Cory', 79, 86, 87, 84, 'B'],\n",
              " 'ID93': ['Danica', 50, 60, 58, 56, 'C'],\n",
              " 'ID94': ['Wilda', 82, 82, 78, 80, 'B'],\n",
              " 'ID95': ['Elvera', 81, 83, 86, 84, 'B'],\n",
              " 'ID96': ['Carma', 64, 59, 62, 62, 'C'],\n",
              " 'ID97': ['Malinda', 66, 62, 55, 60, 'C'],\n",
              " 'ID98': ['Natalie', 95, 85, 91, 90, 'A'],\n",
              " 'ID99': ['Lisha', 69, 67, 55, 63, 'C']}"
            ]
          },
          "metadata": {},
          "execution_count": 13
        }
      ]
    },
    {
      "cell_type": "code",
      "metadata": {
        "id": "fxjacL-xWA_D"
      },
      "source": [
        "def get_info(exams_dict):\n",
        "  '''\n",
        "  This function returns the name, final score, and final grade of each student in a list. \n",
        "  '''\n",
        "  ls = []\n",
        "  for key in exams_dict:\n",
        "    l = [exams_dict[key][0], exams_dict[key][4], exams_dict[key][5]]\n",
        "    ls.append(l)\n",
        "  ls = sorted(ls, key = itemgetter(0))\n",
        "  return ls  "
      ],
      "execution_count": null,
      "outputs": []
    },
    {
      "cell_type": "code",
      "metadata": {
        "colab": {
          "base_uri": "https://localhost:8080/"
        },
        "id": "Njf2tMKCLwoD",
        "outputId": "b32958be-bd26-4ff8-8909-dddedcbc60c2"
      },
      "source": [
        "get_info(exams_dict)"
      ],
      "execution_count": null,
      "outputs": [
        {
          "output_type": "execute_result",
          "data": {
            "text/plain": [
              "[['Abel', 52, 'C'],\n",
              " ['Albina', 32, 'C'],\n",
              " ['Alisha', 68, 'C'],\n",
              " ['Alishia', 66, 'C'],\n",
              " ['Allene', 81, 'B'],\n",
              " ['Amber', 79, 'C'],\n",
              " ['Ammie', 66, 'C'],\n",
              " ['Arlene', 66, 'C'],\n",
              " ['Arlette', 68, 'C'],\n",
              " ['Art', 92, 'A'],\n",
              " ['Bernardo', 45, 'C'],\n",
              " ['Bette', 61, 'C'],\n",
              " ['Blair', 91, 'A'],\n",
              " ['Blondell', 32, 'C'],\n",
              " ['Bobbye', 58, 'C'],\n",
              " ['Brock', 75, 'C'],\n",
              " ['Cammy', 60, 'C'],\n",
              " ['Carma', 62, 'C'],\n",
              " ['Carmelina', 59, 'C'],\n",
              " ['Cecily', 48, 'C'],\n",
              " ['Chanel', 49, 'C'],\n",
              " ['Cory', 84, 'B'],\n",
              " ['Danica', 56, 'C'],\n",
              " ['Deeanna', 82, 'B'],\n",
              " ['Delisa', 77, 'C'],\n",
              " ['Delmy', 85, 'B'],\n",
              " ['Devorah', 83, 'B'],\n",
              " ['Dominque', 54, 'C'],\n",
              " ['Donette', 60, 'C'],\n",
              " ['Dyan', 100, 'A'],\n",
              " ['Elly', 52, 'C'],\n",
              " ['Elvera', 84, 'B'],\n",
              " ['Elza', 71, 'C'],\n",
              " ['Emerson', 64, 'C'],\n",
              " ['Erick', 59, 'C'],\n",
              " ['Ernie', 69, 'C'],\n",
              " ['Ezekiel', 61, 'C'],\n",
              " ['Fatima', 98, 'A'],\n",
              " ['Fletcher', 74, 'C'],\n",
              " ['Francine', 86, 'B'],\n",
              " ['Gladys', 71, 'C'],\n",
              " ['Graciela', 74, 'C'],\n",
              " ['Ilene', 65, 'C'],\n",
              " ['Jamal', 73, 'C'],\n",
              " ['James', 50, 'C'],\n",
              " ['Jina', 86, 'B'],\n",
              " ['Johnetta', 94, 'A'],\n",
              " ['Jose', 66, 'C'],\n",
              " ['Josephine', 83, 'B'],\n",
              " ['Kallie', 69, 'C'],\n",
              " ['Kanisha', 63, 'C'],\n",
              " ['Karl', 84, 'B'],\n",
              " ['Kati', 80, 'B'],\n",
              " ['Kiley', 56, 'C'],\n",
              " ['Kris', 64, 'C'],\n",
              " ['Lai', 69, 'C'],\n",
              " ['Laurel', 91, 'A'],\n",
              " ['Lavera', 54, 'C'],\n",
              " ['Lenna', 67, 'C'],\n",
              " ['Leota', 68, 'C'],\n",
              " ['Lettie', 72, 'C'],\n",
              " ['Lisha', 63, 'C'],\n",
              " ['Lorrie', 66, 'C'],\n",
              " ['Malinda', 60, 'C'],\n",
              " ['Marjory', 75, 'C'],\n",
              " ['Maryann', 58, 'C'],\n",
              " ['Mattie', 71, 'C'],\n",
              " ['Maurine', 74, 'C'],\n",
              " ['Meaghan', 75, 'C'],\n",
              " ['Micaela', 72, 'C'],\n",
              " ['Minna', 44, 'C'],\n",
              " ['Mitsue', 39, 'C'],\n",
              " ['Moon', 74, 'C'],\n",
              " ['Myra', 48, 'C'],\n",
              " ['Natalie', 90, 'A'],\n",
              " ['Penney', 65, 'C'],\n",
              " ['Roxane', 60, 'C'],\n",
              " ['Rozella', 69, 'C'],\n",
              " ['Sabra', 48, 'C'],\n",
              " ['Sage', 64, 'C'],\n",
              " ['Shenika', 70, 'C'],\n",
              " ['Simona', 67, 'C'],\n",
              " ['Solange', 67, 'C'],\n",
              " ['Stephaine', 68, 'C'],\n",
              " ['Stephen', 74, 'C'],\n",
              " ['Tamar', 61, 'C'],\n",
              " ['Tammara', 78, 'C'],\n",
              " ['Tawna', 51, 'C'],\n",
              " ['Timothy', 78, 'C'],\n",
              " ['Tonette', 45, 'C'],\n",
              " ['Tyra', 75, 'C'],\n",
              " ['Valentine', 82, 'B'],\n",
              " ['Vallie', 88, 'B'],\n",
              " ['Veronika', 83, 'B'],\n",
              " ['Viva', 92, 'A'],\n",
              " ['Wilda', 80, 'B'],\n",
              " ['Willard', 69, 'C'],\n",
              " ['Willow', 93, 'A'],\n",
              " ['Youlanda', 84, 'B'],\n",
              " ['Yuki', 80, 'B']]"
            ]
          },
          "metadata": {},
          "execution_count": 15
        }
      ]
    },
    {
      "cell_type": "code",
      "metadata": {
        "id": "YMB908j_Y_1G"
      },
      "source": [
        "def score_summary(exams_df):\n",
        "  '''\n",
        "  This function provides the #of students, min, max, mean, mode, and standard diviation in a list.\n",
        "  '''\n",
        "  student_count = len(exams_df)\n",
        "  mini = min(exams_df.Finalscore)\n",
        "  maxi = max(exams_df.Finalscore)\n",
        "  avg = np.mean(exams_df.Finalscore)\n",
        "  mode = stats.mode(exams_df.Finalscore)\n",
        "  sd = statistics.stdev(exams_df.Finalscore)\n",
        "  ls = [student_count, mini, maxi, avg, mode[0][0], sd]\n",
        "  return ls"
      ],
      "execution_count": null,
      "outputs": []
    },
    {
      "cell_type": "code",
      "metadata": {
        "colab": {
          "base_uri": "https://localhost:8080/"
        },
        "id": "YQ_jfW0dQXAT",
        "outputId": "0fe29256-34cf-41cd-bd1d-9c042c038766"
      },
      "source": [
        "score_summary(exams_df)"
      ],
      "execution_count": null,
      "outputs": [
        {
          "output_type": "execute_result",
          "data": {
            "text/plain": [
              "[100, 32, 100, 69.08, 66, 14.240133922874957]"
            ]
          },
          "metadata": {},
          "execution_count": 17
        }
      ]
    },
    {
      "cell_type": "code",
      "metadata": {
        "id": "IWfvgWl4DQxg"
      },
      "source": [
        "def outlier(exams_df):\n",
        "  '''\n",
        "  This function \n",
        "  '''\n",
        "  avg = np.mean(exams_df.Finalscore)\n",
        "  sd = statistics.stdev(exams_df.Finalscore)\n",
        "  bound = avg + 2 * sd\n",
        "  return exams_df.Finalscore[exams_df[\"Finalscore\"] > bound].tolist()\n",
        "  "
      ],
      "execution_count": null,
      "outputs": []
    },
    {
      "cell_type": "code",
      "metadata": {
        "colab": {
          "base_uri": "https://localhost:8080/"
        },
        "id": "z1FoPk7dZkrp",
        "outputId": "946f8ecb-0aa3-4161-86ac-d1964e15257f"
      },
      "source": [
        "outlier(exams_df)"
      ],
      "execution_count": null,
      "outputs": [
        {
          "output_type": "execute_result",
          "data": {
            "text/plain": [
              "[100, 98]"
            ]
          },
          "metadata": {},
          "execution_count": 19
        }
      ]
    },
    {
      "cell_type": "code",
      "metadata": {
        "id": "iAVLL9ekgL0M"
      },
      "source": [
        "def pie(exams_df):\n",
        "  # exams_df.Finalgrade.value_counts().plot(kind='pie', figsize=(15,10), autopct='%1.1f%%')\n",
        "  result = exams_df[\"Finalgrade\"].value_counts()\n",
        "  y = np.array([])\n",
        "  for i in range(result.count()):\n",
        "    y = np.append(y, result.values[i])\n",
        "  mylabels = exams_df[\"Finalgrade\"].value_counts().index.to_list()\n",
        "  plt.pie(y, labels = mylabels)\n",
        "  plt.legend()\n",
        "  plt.title(\"Final Grade Distribution Pie Chart\")\n",
        "  plt.show() "
      ],
      "execution_count": null,
      "outputs": []
    },
    {
      "cell_type": "code",
      "metadata": {
        "colab": {
          "base_uri": "https://localhost:8080/",
          "height": 264
        },
        "id": "Mc0225NIovf1",
        "outputId": "bf7351af-fffd-48f3-a80e-580313d8851f"
      },
      "source": [
        "pie(exams_df)"
      ],
      "execution_count": null,
      "outputs": [
        {
          "output_type": "display_data",
          "data": {
            "image/png": "[encoded data removed]",
            "text/plain": [
              "<Figure size 432x288 with 1 Axes>"
            ]
          },
          "metadata": {}
        }
      ]
    },
    {
      "cell_type": "code",
      "metadata": {
        "id": "sqoD5laihfJP"
      },
      "source": [
        "def percent_info(exams_df):\n",
        "  mini = min(exams_df.Finalscore)\n",
        "  maxi = max(exams_df.Finalscore)\n",
        "  median = np.percentile(exams_df.Finalscore, 50).astype(int)\n",
        "  q1 = np.percentile(exams_df.Finalscore, 25).astype(int)\n",
        "  q3 = np.percentile(exams_df.Finalscore, 75).astype(int)\n",
        "  ls = (mini, maxi, median, q1, q3)\n",
        "  return ls"
      ],
      "execution_count": null,
      "outputs": []
    },
    {
      "cell_type": "code",
      "metadata": {
        "colab": {
          "base_uri": "https://localhost:8080/"
        },
        "id": "WAjgyGSZlAyZ",
        "outputId": "e0eb36c5-844c-4502-d423-7a064c46e7bc"
      },
      "source": [
        "percent_info(exams_df)"
      ],
      "execution_count": null,
      "outputs": [
        {
          "output_type": "execute_result",
          "data": {
            "text/plain": [
              "(32, 100, 69, 60, 80)"
            ]
          },
          "metadata": {},
          "execution_count": 23
        }
      ]
    },
    {
      "cell_type": "code",
      "metadata": {
        "colab": {
          "resources": {
            "http://localhost:8080/nbextensions/google.colab/files.js": {
              "data": "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",
              "ok": true,
              "headers": [
                [
                  "content-type",
                  "application/javascript"
                ]
              ],
              "status": 200,
              "status_text": ""
            }
          },
          "base_uri": "https://localhost:8080/",
          "height": 749
        },
        "id": "OmI-3dcHlCNY",
        "outputId": "ed254fd9-4cdd-4ac2-8937-5cdcc5e248f0"
      },
      "source": [
        "### Interface\n",
        "print(\"Please upload the comma delimited file, exams.csv\")\n",
        "uploaded = files.upload()\n",
        "exams_df = pd.read_csv(io.BytesIO(uploaded['exams.csv']))\n",
        "get_finalscore(exams_df)\n",
        "get_finalgrade(exams_df)\n",
        "exams_dict = cast_to_dict(exams_df)\n",
        "print(\"Please select operations: \\n 1. Final score and grade for each student. \\n 2. Score summary. \\n 3. Outstanding scores. \\n 4. Grade distribution pie chart. \\n 5. Percentile info. \\n 6. Exit.\")\n",
        "while True: \n",
        "  x = input(\"Please enter the number in front of your intented operation.\\n\")\n",
        "\n",
        "  if (x == '1'):\n",
        "    ls = get_info(exams_dict)\n",
        "    print(ls)\n",
        "  elif (x == '2'):\n",
        "    ls = score_summary(exams_df)\n",
        "    print(\"There are {} students in this class.\".format(ls[0]))\n",
        "    print(\"The lowest final score is {}, and the highest final score is {}.\".format(ls[1], ls[2]))\n",
        "    print(\"The average final score is {}, and the mode of final score is {}.\".format(ls[3], ls[4]))\n",
        "    print(\"The standard deviation of final score is {}\".format(round(ls[5])))\n",
        "  elif (x == '3'):\n",
        "    ls = outlier(exams_df)\n",
        "    print(\"There are {} outstanding scores. These scores are {}.\".format(len(ls), ls))\n",
        "  elif (x == '4'):\n",
        "    pie(exams_df)\n",
        "  elif (x == '5'):\n",
        "    ls = percent_info(exams_df)\n",
        "    print(\"The lowest final score is {}\".format(ls[0]))\n",
        "    print(\"The highest final score is {}.\".format(ls[1]))\n",
        "    print(\"The median of final score is {}.\".format(ls[2]))\n",
        "    print(\"The 25 percentile of final score is {}.\".format(ls[3]))\n",
        "    print(\"The 75 percentile of final score is {}.\".format(ls[4]))\n",
        "  elif (x == '6'):\n",
        "    break\n",
        "  else:\n",
        "    print(\"The number you enter must be in 1-6.\")"
      ],
      "execution_count": null,
      "outputs": [
        {
          "output_type": "stream",
          "name": "stdout",
          "text": [
            "Please upload the comma delimited file, exams.csv\n"
          ]
        },
        {
          "output_type": "display_data",
          "data": {
            "text/html": [
              "\n",
              "     <input type=\"file\" id=\"files-68367409-8e9e-4977-9fe6-d41dbef0bdf5\" name=\"files[]\" multiple disabled\n",
              "        style=\"border:none\" />\n",
              "     <output id=\"result-68367409-8e9e-4977-9fe6-d41dbef0bdf5\">\n",
              "      Upload widget is only available when the cell has been executed in the\n",
              "      current browser session. Please rerun this cell to enable.\n",
              "      </output>\n",
              "      <script src=\"/nbextensions/google.colab/files.js\"></script> "
            ],
            "text/plain": [
              "<IPython.core.display.HTML object>"
            ]
          },
          "metadata": {}
        },
        {
          "name": "stdout",
          "output_type": "stream",
          "text": [
            "Saving exams.csv to exams (1).csv\n",
            "Please select operations: \n",
            " 1. Final score and grade for each student. \n",
            " 2. Score summary. \n",
            " 3. Outstanding scores. \n",
            " 4. Grade distribution pie chart. \n",
            " 5. Percentile info. \n",
            " 6. Exit.\n",
            "Please enter the number in front of your intented operation.\n",
            "2\n",
            "There are 100 students in this class.\n",
            "The lowest final score is 32, and the highest final score is 100.\n",
            "The average final score is 69.08, and the mode of final score is 66.\n",
            "The standard deviation of final score is 14\n",
            "Please enter the number in front of your intented operation.\n",
            "1\n",
            "[['Abel', 52, 'C'], ['Albina', 32, 'C'], ['Alisha', 68, 'C'], ['Alishia', 66, 'C'], ['Allene', 81, 'B'], ['Amber', 79, 'C'], ['Ammie', 66, 'C'], ['Arlene', 66, 'C'], ['Arlette', 68, 'C'], ['Art', 92, 'A'], ['Bernardo', 45, 'C'], ['Bette', 61, 'C'], ['Blair', 91, 'A'], ['Blondell', 32, 'C'], ['Bobbye', 58, 'C'], ['Brock', 75, 'C'], ['Cammy', 60, 'C'], ['Carma', 62, 'C'], ['Carmelina', 59, 'C'], ['Cecily', 48, 'C'], ['Chanel', 49, 'C'], ['Cory', 84, 'B'], ['Danica', 56, 'C'], ['Deeanna', 82, 'B'], ['Delisa', 77, 'C'], ['Delmy', 85, 'B'], ['Devorah', 83, 'B'], ['Dominque', 54, 'C'], ['Donette', 60, 'C'], ['Dyan', 100, 'A'], ['Elly', 52, 'C'], ['Elvera', 84, 'B'], ['Elza', 71, 'C'], ['Emerson', 64, 'C'], ['Erick', 59, 'C'], ['Ernie', 69, 'C'], ['Ezekiel', 61, 'C'], ['Fatima', 98, 'A'], ['Fletcher', 74, 'C'], ['Francine', 86, 'B'], ['Gladys', 71, 'C'], ['Graciela', 74, 'C'], ['Ilene', 65, 'C'], ['Jamal', 73, 'C'], ['James', 50, 'C'], ['Jina', 86, 'B'], ['Johnetta', 94, 'A'], ['Jose', 66, 'C'], ['Josephine', 83, 'B'], ['Kallie', 69, 'C'], ['Kanisha', 63, 'C'], ['Karl', 84, 'B'], ['Kati', 80, 'B'], ['Kiley', 56, 'C'], ['Kris', 64, 'C'], ['Lai', 69, 'C'], ['Laurel', 91, 'A'], ['Lavera', 54, 'C'], ['Lenna', 67, 'C'], ['Leota', 68, 'C'], ['Lettie', 72, 'C'], ['Lisha', 63, 'C'], ['Lorrie', 66, 'C'], ['Malinda', 60, 'C'], ['Marjory', 75, 'C'], ['Maryann', 58, 'C'], ['Mattie', 71, 'C'], ['Maurine', 74, 'C'], ['Meaghan', 75, 'C'], ['Micaela', 72, 'C'], ['Minna', 44, 'C'], ['Mitsue', 39, 'C'], ['Moon', 74, 'C'], ['Myra', 48, 'C'], ['Natalie', 90, 'A'], ['Penney', 65, 'C'], ['Roxane', 60, 'C'], ['Rozella', 69, 'C'], ['Sabra', 48, 'C'], ['Sage', 64, 'C'], ['Shenika', 70, 'C'], ['Simona', 67, 'C'], ['Solange', 67, 'C'], ['Stephaine', 68, 'C'], ['Stephen', 74, 'C'], ['Tamar', 61, 'C'], ['Tammara', 78, 'C'], ['Tawna', 51, 'C'], ['Timothy', 78, 'C'], ['Tonette', 45, 'C'], ['Tyra', 75, 'C'], ['Valentine', 82, 'B'], ['Vallie', 88, 'B'], ['Veronika', 83, 'B'], ['Viva', 92, 'A'], ['Wilda', 80, 'B'], ['Willard', 69, 'C'], ['Willow', 93, 'A'], ['Youlanda', 84, 'B'], ['Yuki', 80, 'B']]\n",
            "Please enter the number in front of your intented operation.\n",
            "3\n",
            "There are 2 outstanding scores. These scores are [100, 98].\n",
            "Please enter the number in front of your intented operation.\n",
            "4\n"
          ]
        },
        {
          "output_type": "display_data",
          "data": {
            "image/png": "[encoded data removed]",
            "text/plain": [
              "<Figure size 432x288 with 1 Axes>"
            ]
          },
          "metadata": {}
        }
      ]
    },
    {
      "cell_type": "markdown",
      "metadata": {
        "id": "Rbad_M2TDWWW"
      },
      "source": [
        "**Exercise 3** \n",
        "-Pick an extensionlibrary from PyPIor other sources(something of interest to you). Summarizethe functionality provided by the library(one paragraph)and show a usage example."
      ]
    },
    {
      "cell_type": "markdown",
      "metadata": {
        "id": "u-AXP9CYDbdC"
      },
      "source": [
        "For this question, I chose the visualization package \"seaborn\".\n",
        "\n",
        "Seaborn is a library for making statistical graphics in Python. It is built on top of matplotlib and closely integrated with pandas data structures. Some very useful functions that Seaborn can do include using categorical variables to show observations or aggregate statistics and providing high-level abstractions for structuring multi-plot grids. \n",
        "\n",
        "Here is an example using seaborn: \n",
        "In this example, I used the .scatterplot function to make a scatterplot on the exams dataframe. This plot might be meaningless though. "
      ]
    },
    {
      "cell_type": "code",
      "metadata": {
        "colab": {
          "base_uri": "https://localhost:8080/",
          "height": 438
        },
        "id": "0ctWExzeFe9p",
        "outputId": "0912dc4f-2ff0-4d8f-c120-ef3a549dfff5"
      },
      "source": [
        "import seaborn as sns\n",
        "\n",
        "sns.set_theme(style=\"whitegrid\")\n",
        "\n",
        "f, ax = plt.subplots(figsize=(6.5, 6.5))\n",
        "sns.despine(f, left=True, bottom=True)\n",
        "grade = [\"A\", \"B\", \"C\", \"D\", \"E\"]\n",
        "sns.scatterplot(x=\"Exams\", y=\"Finalscore\",\n",
        "                hue=\"Finalgrade\", size=\"Quizzes\",\n",
        "                palette=\"ch:r=-.2,d=.3_r\",\n",
        "                hue_order = grade,\n",
        "                sizes=(1, 40), linewidth=0,\n",
        "                data=exams_df, ax=ax)"
      ],
      "execution_count": null,
      "outputs": [
        {
          "output_type": "execute_result",
          "data": {
            "text/plain": [
              "<matplotlib.axes._subplots.AxesSubplot at 0x7f75032df290>"
            ]
          },
          "metadata": {},
          "execution_count": 39
        },
        {
          "output_type": "display_data",
          "data": {
            "image/png": "[encoded data removed]",
            "text/plain": [
              "<Figure size 468x468 with 1 Axes>"
            ]
          },
          "metadata": {}
        }
      ]
    },
    {
      "cell_type": "markdown",
      "metadata": {
        "id": "-uQl_XPCHg8N"
      },
      "source": [
        "Reference: \n",
        "https://pypi.org/project/seaborn/\n",
        "https://seaborn.pydata.org/generated/seaborn.scatterplot.html"
      ]
    }
  ]
}